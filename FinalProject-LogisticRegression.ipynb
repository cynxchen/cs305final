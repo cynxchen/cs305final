{
 "cells": [
  {
   "cell_type": "markdown",
   "metadata": {
    "deletable": true,
    "editable": true
   },
   "source": [
    "<H1><center>Project 3<BR><BR>\n",
    "Logistic Regression</center></H1>"
   ]
  },
  {
   "cell_type": "markdown",
   "metadata": {
    "deletable": true,
    "editable": true
   },
   "source": [
    "<H2>Task 2: Non-Linear Logistic Regression\n",
    "</H2>"
   ]
  },
  {
   "cell_type": "markdown",
   "metadata": {
    "deletable": true,
    "editable": true
   },
   "source": [
    "<P>In this task, you will explore non-linear logistic regression.</P>\n",
    "<P>The code below reads in a file of data corresponding to two classes and plots the data.</P>"
   ]
  },
  {
   "cell_type": "code",
   "execution_count": 2,
   "metadata": {
    "collapsed": false,
    "deletable": true,
    "editable": true
   },
   "outputs": [
    {
     "data": {
      "text/plain": [
       "(4831, 8)"
      ]
     },
     "execution_count": 2,
     "metadata": {},
     "output_type": "execute_result"
    }
   ],
   "source": [
    "import pandas as pd\n",
    "\n",
    "songs = pd.read_csv('billboard.csv', encoding='latin1')\n",
    "songs.shape\n",
    "songs = songs[(songs['Lyrics'].notnull()) & (songs['Lyrics'] != '  ')]\n",
    "songs.shape\n",
    "songs['word_count'] = songs['Lyrics'].apply(lambda s: len(s.split()))\n",
    "songs['Decade'] = songs['Year'].apply(lambda y: str(y//10) + \"0's\")\n",
    "songs = songs[songs['word_count'] > 1]\n",
    "songs.shape"
   ]
  },
  {
   "cell_type": "code",
   "execution_count": 4,
   "metadata": {
    "collapsed": false
   },
   "outputs": [
    {
     "data": {
      "text/html": [
       "<div>\n",
       "<style>\n",
       "    .dataframe thead tr:only-child th {\n",
       "        text-align: right;\n",
       "    }\n",
       "\n",
       "    .dataframe thead th {\n",
       "        text-align: left;\n",
       "    }\n",
       "\n",
       "    .dataframe tbody tr th {\n",
       "        vertical-align: top;\n",
       "    }\n",
       "</style>\n",
       "<table border=\"1\" class=\"dataframe\">\n",
       "  <thead>\n",
       "    <tr style=\"text-align: right;\">\n",
       "      <th></th>\n",
       "      <th>Rank</th>\n",
       "      <th>Song</th>\n",
       "      <th>Artist</th>\n",
       "      <th>Year</th>\n",
       "      <th>Lyrics</th>\n",
       "      <th>Source</th>\n",
       "      <th>word_count</th>\n",
       "      <th>Decade</th>\n",
       "    </tr>\n",
       "  </thead>\n",
       "  <tbody>\n",
       "    <tr>\n",
       "      <th>0</th>\n",
       "      <td>1</td>\n",
       "      <td>wooly bully</td>\n",
       "      <td>sam the sham and the pharaohs</td>\n",
       "      <td>1965</td>\n",
       "      <td>sam the sham miscellaneous wooly bully wooly b...</td>\n",
       "      <td>3.0</td>\n",
       "      <td>125</td>\n",
       "      <td>1960's</td>\n",
       "    </tr>\n",
       "    <tr>\n",
       "      <th>1</th>\n",
       "      <td>2</td>\n",
       "      <td>i cant help myself sugar pie honey bunch</td>\n",
       "      <td>four tops</td>\n",
       "      <td>1965</td>\n",
       "      <td>sugar pie honey bunch you know that i love yo...</td>\n",
       "      <td>1.0</td>\n",
       "      <td>204</td>\n",
       "      <td>1960's</td>\n",
       "    </tr>\n",
       "    <tr>\n",
       "      <th>3</th>\n",
       "      <td>4</td>\n",
       "      <td>you were on my mind</td>\n",
       "      <td>we five</td>\n",
       "      <td>1965</td>\n",
       "      <td>when i woke up this morning you were on my mi...</td>\n",
       "      <td>1.0</td>\n",
       "      <td>152</td>\n",
       "      <td>1960's</td>\n",
       "    </tr>\n",
       "    <tr>\n",
       "      <th>4</th>\n",
       "      <td>5</td>\n",
       "      <td>youve lost that lovin feelin</td>\n",
       "      <td>the righteous brothers</td>\n",
       "      <td>1965</td>\n",
       "      <td>you never close your eyes anymore when i kiss...</td>\n",
       "      <td>1.0</td>\n",
       "      <td>232</td>\n",
       "      <td>1960's</td>\n",
       "    </tr>\n",
       "    <tr>\n",
       "      <th>5</th>\n",
       "      <td>6</td>\n",
       "      <td>downtown</td>\n",
       "      <td>petula clark</td>\n",
       "      <td>1965</td>\n",
       "      <td>when youre alone and life is making you lonel...</td>\n",
       "      <td>1.0</td>\n",
       "      <td>239</td>\n",
       "      <td>1960's</td>\n",
       "    </tr>\n",
       "  </tbody>\n",
       "</table>\n",
       "</div>"
      ],
      "text/plain": [
       "   Rank                                      Song  \\\n",
       "0     1                               wooly bully   \n",
       "1     2  i cant help myself sugar pie honey bunch   \n",
       "3     4                       you were on my mind   \n",
       "4     5              youve lost that lovin feelin   \n",
       "5     6                                  downtown   \n",
       "\n",
       "                          Artist  Year  \\\n",
       "0  sam the sham and the pharaohs  1965   \n",
       "1                      four tops  1965   \n",
       "3                        we five  1965   \n",
       "4         the righteous brothers  1965   \n",
       "5                   petula clark  1965   \n",
       "\n",
       "                                              Lyrics  Source  word_count  \\\n",
       "0  sam the sham miscellaneous wooly bully wooly b...     3.0         125   \n",
       "1   sugar pie honey bunch you know that i love yo...     1.0         204   \n",
       "3   when i woke up this morning you were on my mi...     1.0         152   \n",
       "4   you never close your eyes anymore when i kiss...     1.0         232   \n",
       "5   when youre alone and life is making you lonel...     1.0         239   \n",
       "\n",
       "   Decade  \n",
       "0  1960's  \n",
       "1  1960's  \n",
       "3  1960's  \n",
       "4  1960's  \n",
       "5  1960's  "
      ]
     },
     "execution_count": 4,
     "metadata": {},
     "output_type": "execute_result"
    }
   ],
   "source": [
    "songs.head()"
   ]
  },
  {
   "cell_type": "code",
   "execution_count": 3,
   "metadata": {
    "collapsed": false,
    "deletable": true,
    "editable": true
   },
   "outputs": [
    {
     "name": "stdout",
     "output_type": "stream",
     "text": [
      "(3091, 255075) (773, 255075) (967, 255075)\n"
     ]
    }
   ],
   "source": [
    "from sklearn.feature_extraction.text import TfidfVectorizer\n",
    "from sklearn.ensemble import RandomForestClassifier\n",
    "from sklearn.model_selection import train_test_split\n",
    "\n",
    "corpus = songs['Lyrics']\n",
    "y = songs['Decade']\n",
    "\n",
    "corpus_train, corpus_test, y_train, y_test = train_test_split(corpus, y, test_size=0.2, random_state=1)\n",
    "corpus_tr, corpus_val, y_tr, y_val = train_test_split(corpus_train, y_train, test_size=0.2, random_state=1)\n",
    "\n",
    "vectorizer = TfidfVectorizer(ngram_range=(1, 2))\n",
    "X_tr = vectorizer.fit_transform(corpus_tr)\n",
    "X_val = vectorizer.transform(corpus_val)\n",
    "X_test = vectorizer.transform(corpus_test)\n",
    "print(X_tr.shape, X_val.shape, X_test.shape)"
   ]
  },
  {
   "cell_type": "code",
   "execution_count": 8,
   "metadata": {
    "collapsed": false
   },
   "outputs": [
    {
     "name": "stdout",
     "output_type": "stream",
     "text": [
      "0.900679391783\n",
      "0.364812419146\n"
     ]
    }
   ],
   "source": [
    "from sklearn.linear_model import LogisticRegression\n",
    "\n",
    "regr = LogisticRegression()\n",
    "regr.fit(X_tr, y_tr)\n",
    "print(regr.score(X_tr,y_tr))\n",
    "print(regr.score(X_val,y_val))"
   ]
  }
 ],
 "metadata": {
  "kernelspec": {
   "display_name": "Python 3",
   "language": "python",
   "name": "python3"
  },
  "language_info": {
   "codemirror_mode": {
    "name": "ipython",
    "version": 3
   },
   "file_extension": ".py",
   "mimetype": "text/x-python",
   "name": "python",
   "nbconvert_exporter": "python",
   "pygments_lexer": "ipython3",
   "version": "3.5.2"
  }
 },
 "nbformat": 4,
 "nbformat_minor": 2
}
