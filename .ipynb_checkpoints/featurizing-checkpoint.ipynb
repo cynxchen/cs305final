{
 "cells": [
  {
   "cell_type": "code",
   "execution_count": 1,
   "metadata": {},
   "outputs": [
    {
     "data": {
      "text/plain": [
       "(4831, 7)"
      ]
     },
     "execution_count": 1,
     "metadata": {},
     "output_type": "execute_result"
    }
   ],
   "source": [
    "import pandas as pd\n",
    "\n",
    "songs = pd.read_csv('billboard.csv', encoding='latin1')\n",
    "songs.shape\n",
    "songs = songs[(songs['Lyrics'].notnull()) & (songs['Lyrics'] != '  ')]\n",
    "songs.shape\n",
    "songs['word_count'] = songs['Lyrics'].apply(lambda s: len(s.split()))\n",
    "songs = songs[songs['word_count'] > 1]\n",
    "songs.shape"
   ]
  },
  {
   "cell_type": "code",
   "execution_count": 2,
   "metadata": {},
   "outputs": [
    {
     "data": {
      "text/html": [
       "<div>\n",
       "<style scoped>\n",
       "    .dataframe tbody tr th:only-of-type {\n",
       "        vertical-align: middle;\n",
       "    }\n",
       "\n",
       "    .dataframe tbody tr th {\n",
       "        vertical-align: top;\n",
       "    }\n",
       "\n",
       "    .dataframe thead th {\n",
       "        text-align: right;\n",
       "    }\n",
       "</style>\n",
       "<table border=\"1\" class=\"dataframe\">\n",
       "  <thead>\n",
       "    <tr style=\"text-align: right;\">\n",
       "      <th></th>\n",
       "      <th>Rank</th>\n",
       "      <th>Song</th>\n",
       "      <th>Artist</th>\n",
       "      <th>Year</th>\n",
       "      <th>Lyrics</th>\n",
       "      <th>Source</th>\n",
       "      <th>word_count</th>\n",
       "    </tr>\n",
       "  </thead>\n",
       "  <tbody>\n",
       "    <tr>\n",
       "      <th>0</th>\n",
       "      <td>1</td>\n",
       "      <td>wooly bully</td>\n",
       "      <td>sam the sham and the pharaohs</td>\n",
       "      <td>1965</td>\n",
       "      <td>sam the sham miscellaneous wooly bully wooly b...</td>\n",
       "      <td>3.0</td>\n",
       "      <td>125</td>\n",
       "    </tr>\n",
       "    <tr>\n",
       "      <th>1</th>\n",
       "      <td>2</td>\n",
       "      <td>i cant help myself sugar pie honey bunch</td>\n",
       "      <td>four tops</td>\n",
       "      <td>1965</td>\n",
       "      <td>sugar pie honey bunch you know that i love yo...</td>\n",
       "      <td>1.0</td>\n",
       "      <td>204</td>\n",
       "    </tr>\n",
       "    <tr>\n",
       "      <th>3</th>\n",
       "      <td>4</td>\n",
       "      <td>you were on my mind</td>\n",
       "      <td>we five</td>\n",
       "      <td>1965</td>\n",
       "      <td>when i woke up this morning you were on my mi...</td>\n",
       "      <td>1.0</td>\n",
       "      <td>152</td>\n",
       "    </tr>\n",
       "    <tr>\n",
       "      <th>4</th>\n",
       "      <td>5</td>\n",
       "      <td>youve lost that lovin feelin</td>\n",
       "      <td>the righteous brothers</td>\n",
       "      <td>1965</td>\n",
       "      <td>you never close your eyes anymore when i kiss...</td>\n",
       "      <td>1.0</td>\n",
       "      <td>232</td>\n",
       "    </tr>\n",
       "    <tr>\n",
       "      <th>5</th>\n",
       "      <td>6</td>\n",
       "      <td>downtown</td>\n",
       "      <td>petula clark</td>\n",
       "      <td>1965</td>\n",
       "      <td>when youre alone and life is making you lonel...</td>\n",
       "      <td>1.0</td>\n",
       "      <td>239</td>\n",
       "    </tr>\n",
       "  </tbody>\n",
       "</table>\n",
       "</div>"
      ],
      "text/plain": [
       "   Rank                                      Song  \\\n",
       "0     1                               wooly bully   \n",
       "1     2  i cant help myself sugar pie honey bunch   \n",
       "3     4                       you were on my mind   \n",
       "4     5              youve lost that lovin feelin   \n",
       "5     6                                  downtown   \n",
       "\n",
       "                          Artist  Year  \\\n",
       "0  sam the sham and the pharaohs  1965   \n",
       "1                      four tops  1965   \n",
       "3                        we five  1965   \n",
       "4         the righteous brothers  1965   \n",
       "5                   petula clark  1965   \n",
       "\n",
       "                                              Lyrics  Source  word_count  \n",
       "0  sam the sham miscellaneous wooly bully wooly b...     3.0         125  \n",
       "1   sugar pie honey bunch you know that i love yo...     1.0         204  \n",
       "3   when i woke up this morning you were on my mi...     1.0         152  \n",
       "4   you never close your eyes anymore when i kiss...     1.0         232  \n",
       "5   when youre alone and life is making you lonel...     1.0         239  "
      ]
     },
     "execution_count": 2,
     "metadata": {},
     "output_type": "execute_result"
    }
   ],
   "source": [
    "songs.head()"
   ]
  },
  {
   "cell_type": "code",
   "execution_count": 3,
   "metadata": {},
   "outputs": [
    {
     "name": "stdout",
     "output_type": "stream",
     "text": [
      "(4831, 354435)\n",
      "(4831, 354435)\n",
      "(4831, 354435)\n",
      "(4831, 354435)\n",
      "(4831, 354435)\n"
     ]
    }
   ],
   "source": [
    "from sklearn.feature_extraction.text import TfidfVectorizer\n",
    "from sklearn.ensemble import RandomForestClassifier\n",
    "from sklearn.model_selection import train_test_split\n",
    "\n",
    "corpus = songs['Lyrics']\n",
    "y = songs['Year']\n",
    "\n",
    "for i in range(5):\n",
    "    vectorizer = TfidfVectorizer(ngram_range=(1, 2))\n",
    "    X = vectorizer.fit_transform(corpus)\n",
    "    print(X.shape)\n",
    "    X_train, X_test, y_train, y_test = train_test_split(corpus, y, test_size=0.2, random_state=1)\n",
    "    X_train, X_val, y_train, y_val = train_test_split(corpus, y, test_size=0.2, random_state=1)\n",
    "#     clf = RandomForestClassifier(n_estimators=100, max_depth=2,random_state=0)\n",
    "#     clf.fit(X_test, y_test)"
   ]
  },
  {
   "cell_type": "code",
   "execution_count": null,
   "metadata": {
    "collapsed": true
   },
   "outputs": [],
   "source": [
    "vectorizer = TfidfVectorizer(ngram_range=(1,2))\n",
    "X = vectorizer.fit_transform(corpus)"
   ]
  },
  {
   "cell_type": "code",
   "execution_count": 4,
   "metadata": {},
   "outputs": [
    {
     "data": {
      "text/plain": [
       "0       sam the sham miscellaneous wooly bully wooly b...\n",
       "1        sugar pie honey bunch you know that i love yo...\n",
       "3        when i woke up this morning you were on my mi...\n",
       "4        you never close your eyes anymore when i kiss...\n",
       "5        when youre alone and life is making you lonel...\n",
       "6       help i need somebody help not just anybody hel...\n",
       "7       carterlewis every time i see you lookin my way...\n",
       "8        you saw me crying in the chapel the tears i s...\n",
       "9       ive got sunshine on a cloudy day when its cold...\n",
       "10      well since she put me down i ve been out doin ...\n",
       "11       trailer for sale or rent rooms to let fifty c...\n",
       "12      let me tell ya bout the birds and the bees and...\n",
       "13       hold me hold me never let me go until youve t...\n",
       "14      i said Ì¢shotgun shoot em for he runs now do t...\n",
       "15      they say were young and we dont know we wont f...\n",
       "16      who wants to buy this diamond ring she took it...\n",
       "18       mrs brown youve got a lovely daughter girls a...\n",
       "19       stop in the name of love before you break my ...\n",
       "20       oh my love my darling ive hungered for your t...\n",
       "21       slaycrewetook a walk and passed your house la...\n",
       "22       theres a new world somewhere they call the pr...\n",
       "23      mantovani cara mia why must we say goodbye eac...\n",
       "24       hey mr tambourine man play a song for me im n...\n",
       "25      a month of nights a year of days octobers drif...\n",
       "26      are you ready yes im ready are you ready yes i...\n",
       "27       whats new pussycat woah woah whats new pussyc...\n",
       "28       the eastern world it is explodin violence fla...\n",
       "29      hang on sloopy sloopy hang on hang on sloopy s...\n",
       "30      i think im gonna be sad i think its today yeah...\n",
       "31      i want some red roses for a blue lady mister f...\n",
       "                              ...                        \n",
       "5069     yah bad bitches is the yahi aint got no type ...\n",
       "5070     i was scared of dentists and the dark i was s...\n",
       "5071     my name calling all night i could pull the wo...\n",
       "5072    verse 1 well i had me a boy turned him into a ...\n",
       "5073     dear future husband heres a few things youll ...\n",
       "5074     lets marvin gaye and get it on you got the he...\n",
       "5075     i found myself dreaming in silver and gold li...\n",
       "5076     uhuh uhuh uhuh i eat my dinner in my bathtub ...\n",
       "5077     are you are you coming to the tree they strun...\n",
       "5078     im in love with the coco coco coco im in love...\n",
       "5079    verse 1 jessie j she got a body like an hourgl...\n",
       "5080     yes i do i believe that one day i will be whe...\n",
       "5081    hook x4 club goin up on a tuesday got your gir...\n",
       "5082     yo yo aye im finna aye im finnaim finna show ...\n",
       "5083     i went to the moped store said fuck it salesm...\n",
       "5084     youre on the couch blowing up my phone you do...\n",
       "5085     i need you i need you i need you i need you i...\n",
       "5086     all week long its a farmin town theyre makin ...\n",
       "5087     look i feel blessed way up i feel blessed way...\n",
       "5088     my house in budapest my hidden treasure chest...\n",
       "5089     party girls dont get hurt cant feel anything ...\n",
       "5090     this is my heartbeat song and im gonna play i...\n",
       "5091     i met this girl late last year she said dont ...\n",
       "5092     i keep going to the river to pray cause i nee...\n",
       "5093     i guess right now youve got the last laughim ...\n",
       "5094     my face above the water my feet cant touch th...\n",
       "5095    enrique iglesias dime si es verdad me dijeron ...\n",
       "5097     going out tonight changes into something red ...\n",
       "5098     oh man oh man oh man not againyeah i learned ...\n",
       "5099     i want you to breathe me in let me be your ai...\n",
       "Name: Lyrics, Length: 4831, dtype: object"
      ]
     },
     "execution_count": 4,
     "metadata": {},
     "output_type": "execute_result"
    }
   ],
   "source": []
  },
  {
   "cell_type": "code",
   "execution_count": null,
   "metadata": {
    "collapsed": true
   },
   "outputs": [],
   "source": []
  }
 ],
 "metadata": {
  "kernelspec": {
   "display_name": "Python 3",
   "language": "python",
   "name": "python3"
  },
  "language_info": {
   "codemirror_mode": {
    "name": "ipython",
    "version": 3
   },
   "file_extension": ".py",
   "mimetype": "text/x-python",
   "name": "python",
   "nbconvert_exporter": "python",
   "pygments_lexer": "ipython3",
   "version": "3.6.5"
  }
 },
 "nbformat": 4,
 "nbformat_minor": 2
}
