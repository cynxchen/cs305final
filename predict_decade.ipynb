{
 "cells": [
  {
   "cell_type": "markdown",
   "metadata": {},
   "source": [
    "# Predicting Decade of Song Lyrics"
   ]
  },
  {
   "cell_type": "markdown",
   "metadata": {},
   "source": [
    "### Data Cleaning"
   ]
  },
  {
   "cell_type": "code",
   "execution_count": 2,
   "metadata": {},
   "outputs": [
    {
     "data": {
      "text/plain": [
       "(4831, 8)"
      ]
     },
     "execution_count": 2,
     "metadata": {},
     "output_type": "execute_result"
    }
   ],
   "source": [
    "import pandas as pd\n",
    "\n",
    "songs = pd.read_csv('billboard.csv', encoding='latin1')\n",
    "songs.shape\n",
    "songs = songs[(songs['Lyrics'].notnull()) & (songs['Lyrics'] != '  ')]\n",
    "songs.shape\n",
    "songs['word_count'] = songs['Lyrics'].apply(lambda s: len(s.split()))\n",
    "songs['Decade'] = songs['Year'].apply(lambda y: str(y//10) + \"0's\")\n",
    "songs = songs[songs['word_count'] > 1]\n",
    "songs.shape"
   ]
  },
  {
   "cell_type": "code",
   "execution_count": 3,
   "metadata": {},
   "outputs": [
    {
     "data": {
      "text/html": [
       "<div>\n",
       "<style scoped>\n",
       "    .dataframe tbody tr th:only-of-type {\n",
       "        vertical-align: middle;\n",
       "    }\n",
       "\n",
       "    .dataframe tbody tr th {\n",
       "        vertical-align: top;\n",
       "    }\n",
       "\n",
       "    .dataframe thead th {\n",
       "        text-align: right;\n",
       "    }\n",
       "</style>\n",
       "<table border=\"1\" class=\"dataframe\">\n",
       "  <thead>\n",
       "    <tr style=\"text-align: right;\">\n",
       "      <th></th>\n",
       "      <th>Rank</th>\n",
       "      <th>Song</th>\n",
       "      <th>Artist</th>\n",
       "      <th>Year</th>\n",
       "      <th>Lyrics</th>\n",
       "      <th>Source</th>\n",
       "      <th>word_count</th>\n",
       "      <th>Decade</th>\n",
       "    </tr>\n",
       "  </thead>\n",
       "  <tbody>\n",
       "    <tr>\n",
       "      <th>0</th>\n",
       "      <td>1</td>\n",
       "      <td>wooly bully</td>\n",
       "      <td>sam the sham and the pharaohs</td>\n",
       "      <td>1965</td>\n",
       "      <td>sam the sham miscellaneous wooly bully wooly b...</td>\n",
       "      <td>3.0</td>\n",
       "      <td>125</td>\n",
       "      <td>1960's</td>\n",
       "    </tr>\n",
       "    <tr>\n",
       "      <th>1</th>\n",
       "      <td>2</td>\n",
       "      <td>i cant help myself sugar pie honey bunch</td>\n",
       "      <td>four tops</td>\n",
       "      <td>1965</td>\n",
       "      <td>sugar pie honey bunch you know that i love yo...</td>\n",
       "      <td>1.0</td>\n",
       "      <td>204</td>\n",
       "      <td>1960's</td>\n",
       "    </tr>\n",
       "    <tr>\n",
       "      <th>3</th>\n",
       "      <td>4</td>\n",
       "      <td>you were on my mind</td>\n",
       "      <td>we five</td>\n",
       "      <td>1965</td>\n",
       "      <td>when i woke up this morning you were on my mi...</td>\n",
       "      <td>1.0</td>\n",
       "      <td>152</td>\n",
       "      <td>1960's</td>\n",
       "    </tr>\n",
       "    <tr>\n",
       "      <th>4</th>\n",
       "      <td>5</td>\n",
       "      <td>youve lost that lovin feelin</td>\n",
       "      <td>the righteous brothers</td>\n",
       "      <td>1965</td>\n",
       "      <td>you never close your eyes anymore when i kiss...</td>\n",
       "      <td>1.0</td>\n",
       "      <td>232</td>\n",
       "      <td>1960's</td>\n",
       "    </tr>\n",
       "    <tr>\n",
       "      <th>5</th>\n",
       "      <td>6</td>\n",
       "      <td>downtown</td>\n",
       "      <td>petula clark</td>\n",
       "      <td>1965</td>\n",
       "      <td>when youre alone and life is making you lonel...</td>\n",
       "      <td>1.0</td>\n",
       "      <td>239</td>\n",
       "      <td>1960's</td>\n",
       "    </tr>\n",
       "  </tbody>\n",
       "</table>\n",
       "</div>"
      ],
      "text/plain": [
       "   Rank                                      Song  \\\n",
       "0     1                               wooly bully   \n",
       "1     2  i cant help myself sugar pie honey bunch   \n",
       "3     4                       you were on my mind   \n",
       "4     5              youve lost that lovin feelin   \n",
       "5     6                                  downtown   \n",
       "\n",
       "                          Artist  Year  \\\n",
       "0  sam the sham and the pharaohs  1965   \n",
       "1                      four tops  1965   \n",
       "3                        we five  1965   \n",
       "4         the righteous brothers  1965   \n",
       "5                   petula clark  1965   \n",
       "\n",
       "                                              Lyrics  Source  word_count  \\\n",
       "0  sam the sham miscellaneous wooly bully wooly b...     3.0         125   \n",
       "1   sugar pie honey bunch you know that i love yo...     1.0         204   \n",
       "3   when i woke up this morning you were on my mi...     1.0         152   \n",
       "4   you never close your eyes anymore when i kiss...     1.0         232   \n",
       "5   when youre alone and life is making you lonel...     1.0         239   \n",
       "\n",
       "   Decade  \n",
       "0  1960's  \n",
       "1  1960's  \n",
       "3  1960's  \n",
       "4  1960's  \n",
       "5  1960's  "
      ]
     },
     "execution_count": 3,
     "metadata": {},
     "output_type": "execute_result"
    }
   ],
   "source": [
    "songs.head()"
   ]
  },
  {
   "cell_type": "markdown",
   "metadata": {},
   "source": [
    "### Splitting Data for Modeling"
   ]
  },
  {
   "cell_type": "code",
   "execution_count": 4,
   "metadata": {},
   "outputs": [
    {
     "name": "stdout",
     "output_type": "stream",
     "text": [
      "(3091, 255075) (773, 255075) (967, 255075)\n"
     ]
    }
   ],
   "source": [
    "from sklearn.feature_extraction.text import TfidfVectorizer\n",
    "from sklearn.model_selection import train_test_split\n",
    "\n",
    "corpus = songs['Lyrics']\n",
    "y = songs['Decade']\n",
    "\n",
    "# DATA split into 3 chunks\n",
    "# corpus_tr/y_tr : TRAINING data\n",
    "# corpus_val/y_val : VALIDATION data\n",
    "# corpus_test/y_test : TESTING data\n",
    "corpus_train, corpus_test, y_train, y_test = train_test_split(corpus, y, test_size=0.2, random_state=1)\n",
    "corpus_tr, corpus_val, y_tr, y_val = train_test_split(corpus_train, y_train, test_size=0.2, random_state=1)\n",
    "\n",
    "# Use tfidf for featurization\n",
    "vectorizer = TfidfVectorizer(ngram_range=(1, 2))\n",
    "X_tr = vectorizer.fit_transform(corpus_tr)\n",
    "X_val = vectorizer.transform(corpus_val)\n",
    "X_test = vectorizer.transform(corpus_test)\n",
    "print(X_tr.shape, X_val.shape, X_test.shape)\n",
    "\n",
    "# there are 255075 features"
   ]
  },
  {
   "cell_type": "code",
   "execution_count": 6,
   "metadata": {},
   "outputs": [
    {
     "name": "stdout",
     "output_type": "stream",
     "text": [
      "training Counter({\"2000's\": 624, \"1980's\": 624, \"1990's\": 606, \"1970's\": 585, \"2010's\": 367, \"1960's\": 285})\n",
      "validation Counter({\"2000's\": 160, \"1970's\": 154, \"1990's\": 152, \"1980's\": 133, \"2010's\": 105, \"1960's\": 69})\n",
      "testing Counter({\"1980's\": 197, \"2000's\": 189, \"1990's\": 186, \"1970's\": 172, \"2010's\": 120, \"1960's\": 103})\n"
     ]
    }
   ],
   "source": [
    "from collections import Counter\n",
    "\n",
    "# check how evenly the decades are split\n",
    "print(\"training\", Counter(y_tr))\n",
    "print(\"validation\", Counter(y_val))\n",
    "print(\"testing\", Counter(y_test))"
   ]
  },
  {
   "cell_type": "markdown",
   "metadata": {},
   "source": [
    "### Random Forest Classifier"
   ]
  },
  {
   "cell_type": "code",
   "execution_count": 27,
   "metadata": {},
   "outputs": [
    {
     "name": "stdout",
     "output_type": "stream",
     "text": [
      "[[0.2238033635187581, 0.2238033635187581, 0.2095730918499353, 0.23673997412677877, 0.25614489003880986, 0.258732212160414, 0.2664941785252264], [0.19404915912031048, 0.23803363518758086, 0.2535575679172057, 0.25097024579560157, 0.296248382923674, 0.3208279430789133, 0.2755498059508409], [0.22121604139715395, 0.23932729624838292, 0.2794307891332471, 0.2833117723156533, 0.33247089262613194, 0.34023285899094435, 0.296248382923674], [0.24708926261319533, 0.26390685640362227, 0.276843467011643, 0.314359637774903, 0.35058214747736094, 0.33764553686934023, 0.34799482535575677], [0.2522639068564036, 0.2858990944372574, 0.3040103492884864, 0.34023285899094435, 0.35446313065976714, 0.35575679172056923, 0.36739974126778785], [0.2652005174644243, 0.3001293661060802, 0.3182406209573092, 0.34540750323415265, 0.36739974126778785, 0.34928848641655885, 0.36093143596377747], [0.2716688227684347, 0.296248382923674, 0.31047865459249674, 0.34799482535575677, 0.3777490297542044, 0.36222509702457956, 0.36351875808538164], [0.276843467011643, 0.3169469598965071, 0.3350582147477361, 0.37257438551099614, 0.3906856403622251, 0.3868046571798189, 0.3738680465717982]]\n"
     ]
    }
   ],
   "source": [
    "from sklearn.ensemble import RandomForestClassifier\n",
    "import numpy as np\n",
    "from sklearn.metrics import f1_score, classification_report\n",
    "\n",
    "# Number of trees in random forest\n",
    "n_estimators = [1, 5, 10, 20, 30, 40, 50, 100]\n",
    "# Maximum number of levels in tree\n",
    "max_depth = [1, 5, 10, 20, 30, 40, 50]\n",
    "\n",
    "# Matrix used to store accuracy scores\n",
    "acc_mat = [[0 for d in range(len(max_depth))] for e in range(len(n_estimators))]\n",
    "\n",
    "for i, est in enumerate(n_estimators):\n",
    "    for j, dep in enumerate(max_depth):\n",
    "        clf = RandomForestClassifier(n_estimators=est, max_depth=dep, random_state=1)\n",
    "        clf.fit(X_tr, y_tr)\n",
    "        val_score = clf.score(X_val, y_val) # same as f1 score micro\n",
    "        acc_mat[i][j] = val_score\n",
    "        \n",
    "print(acc_mat)"
   ]
  },
  {
   "cell_type": "code",
   "execution_count": 41,
   "metadata": {},
   "outputs": [
    {
     "data": {
      "image/png": "[encoded data removed]",
      "text/plain": [
       "<Figure size 432x288 with 1 Axes>"
      ]
     },
     "metadata": {
      "needs_background": "light"
     },
     "output_type": "display_data"
    }
   ],
   "source": [
    "import matplotlib.pyplot as plt\n",
    "\n",
    "# visualization of accuracy by hyperparameter values\n",
    "plt.plot(max_depth, acc_mat[7], label='100')\n",
    "plt.plot(max_depth, acc_mat[6], label='50')\n",
    "plt.plot(max_depth, acc_mat[5], label='40')\n",
    "plt.plot(max_depth, acc_mat[4], label='30')\n",
    "plt.plot(max_depth, acc_mat[3], label='20')\n",
    "plt.plot(max_depth, acc_mat[2], label='10')\n",
    "plt.plot(max_depth, acc_mat[1], label='5')\n",
    "plt.plot(max_depth, acc_mat[0], label='1')\n",
    "plt.legend(title='Num Trees', bbox_to_anchor=(1.04,1))\n",
    "plt.xlabel('Max Tree Depth')\n",
    "plt.ylabel('Mean Accuracy')\n",
    "plt.title('Random Forest Accuracy by Hyperparameter Values')\n",
    "plt.show()"
   ]
  },
  {
   "cell_type": "code",
   "execution_count": 29,
   "metadata": {},
   "outputs": [
    {
     "name": "stdout",
     "output_type": "stream",
     "text": [
      "0.9268845033969589 0.36739974126778785 0.36297828335056875\n",
      "              precision    recall  f1-score   support\n",
      "\n",
      "      1960's       0.00      0.00      0.00       103\n",
      "      1970's       0.31      0.45      0.36       172\n",
      "      1980's       0.30      0.47      0.37       197\n",
      "      1990's       0.34      0.28      0.31       186\n",
      "      2000's       0.49      0.60      0.54       189\n",
      "      2010's       0.83      0.12      0.22       120\n",
      "\n",
      "   micro avg       0.36      0.36      0.36       967\n",
      "   macro avg       0.38      0.32      0.30       967\n",
      "weighted avg       0.38      0.36      0.33       967\n",
      "\n"
     ]
    }
   ],
   "source": [
    "final_rf = RandomForestClassifier(n_estimators=40, max_depth=30, random_state=1)\n",
    "final_rf.fit(X_tr, y_tr)\n",
    "\n",
    "tr_score = final_rf.score(X_tr, y_tr)\n",
    "val_score = final_rf.score(X_val, y_val)\n",
    "test_score = final_rf.score(X_test, y_test)\n",
    "print(tr_score, val_score, test_score)\n",
    "\n",
    "y_predicted = final_rf.predict(X_test)\n",
    "print(classification_report(y_test, y_predicted))"
   ]
  },
  {
   "cell_type": "markdown",
   "metadata": {},
   "source": [
    "### Perceptron"
   ]
  },
  {
   "cell_type": "code",
   "execution_count": 32,
   "metadata": {},
   "outputs": [
    {
     "name": "stdout",
     "output_type": "stream",
     "text": [
      "5 1e-05 0.9954707214493691 0.36610608020698576\n",
      "5 0.0001 0.9560012940795859 0.32470892626131953\n",
      "5 0.001 0.5920414105467486 0.25485122897800777\n",
      "10 1e-05 0.9961177612423164 0.3389391979301423\n",
      "10 0.0001 0.9430604982206405 0.2949547218628719\n",
      "10 0.001 0.6486573924296344 0.2936610608020699\n",
      "30 1e-05 0.99644128113879 0.34540750323415265\n",
      "30 0.0001 0.9511484956324814 0.3298835705045278\n",
      "30 0.001 0.6036881268197994 0.276843467011643\n",
      "50 1e-05 0.9938531219670009 0.3169469598965071\n",
      "50 0.0001 0.936590100291168 0.3078913324708926\n",
      "50 0.001 0.5959236493044322 0.276843467011643\n"
     ]
    }
   ],
   "source": [
    "from sklearn.linear_model import Perceptron\n",
    "\n",
    "# Number of epochs\n",
    "max_iters = [5, 10, 30, 50]\n",
    "# Penalty\n",
    "alphas = [0.00001, 0.0001, 0.001]\n",
    "\n",
    "# Matrix used to store accuracy scores\n",
    "acc_mat_p = [[0 for d in range(len(alphas))] for e in range(len(max_iters))]\n",
    "\n",
    "for i, m in enumerate(max_iters):\n",
    "    for j, a in enumerate(alphas):\n",
    "        p_clf = Perceptron(max_iter = m, alpha = a, penalty = 'l2', random_state=1)\n",
    "        p_clf.fit(X_tr, y_tr)\n",
    "        val_score = p_clf.score(X_val, y_val) # same as f1 score micro\n",
    "        acc_mat_p[i][j] = val_score\n",
    "        print(m, a, p_clf.score(X_tr, y_tr), val_score)"
   ]
  },
  {
   "cell_type": "code",
   "execution_count": 33,
   "metadata": {},
   "outputs": [
    {
     "name": "stdout",
     "output_type": "stream",
     "text": [
      "0.9954707214493691 0.36610608020698576 0.3733195449844881\n",
      "              precision    recall  f1-score   support\n",
      "\n",
      "      1960's       0.21      0.06      0.09       103\n",
      "      1970's       0.34      0.33      0.33       172\n",
      "      1980's       0.36      0.42      0.39       197\n",
      "      1990's       0.31      0.40      0.35       186\n",
      "      2000's       0.49      0.53      0.51       189\n",
      "      2010's       0.42      0.34      0.38       120\n",
      "\n",
      "   micro avg       0.37      0.37      0.37       967\n",
      "   macro avg       0.35      0.35      0.34       967\n",
      "weighted avg       0.36      0.37      0.36       967\n",
      "\n"
     ]
    }
   ],
   "source": [
    "final_perc = Perceptron(max_iter = 5, alpha = 0.00001, penalty = 'l2', random_state=1)\n",
    "final_perc.fit(X_tr, y_tr)\n",
    "\n",
    "tr_score = final_perc.score(X_tr, y_tr)\n",
    "val_score = final_perc.score(X_val, y_val)\n",
    "test_score = final_perc.score(X_test, y_test)\n",
    "print(tr_score, val_score, test_score)\n",
    "\n",
    "y_predicted = final_perc.predict(X_test)\n",
    "print(classification_report(y_test, y_predicted))"
   ]
  },
  {
   "cell_type": "markdown",
   "metadata": {},
   "source": [
    "### Logistic Regression"
   ]
  },
  {
   "cell_type": "code",
   "execution_count": 37,
   "metadata": {},
   "outputs": [
    {
     "name": "stdout",
     "output_type": "stream",
     "text": [
      "ovr 1 0.9000323519896474 0.36222509702457956\n",
      "ovr 0.1 0.6408929149142673 0.3389391979301423\n",
      "ovr 0.001 0.3794888385635717 0.2807244501940492\n",
      "ovr 0.0001 0.3794888385635717 0.2807244501940492\n",
      "multinomial 1 0.9411193788417987 0.36739974126778785\n",
      "multinomial 0.1 0.6564218699450016 0.3350582147477361\n",
      "multinomial 0.001 0.3794888385635717 0.2807244501940492\n",
      "multinomial 0.0001 0.379165318667098 0.2807244501940492\n"
     ]
    }
   ],
   "source": [
    "from sklearn.linear_model import LogisticRegression\n",
    "\n",
    "# Multi-class parameter\n",
    "multi = ['ovr', 'multinomial']\n",
    "# Regularization strength\n",
    "C = [1, 0.1, 0.001, 0.0001]\n",
    "\n",
    "# Matrix used to store accuracy scores\n",
    "acc_mat_l = [[0 for d in range(len(C))] for e in range(len(multi))]\n",
    "\n",
    "for i, m in enumerate(multi):\n",
    "    for j, c in enumerate(C):\n",
    "        regr = LogisticRegression(multi_class = m, C = c, solver = 'lbfgs', random_state=1)\n",
    "        regr.fit(X_tr, y_tr)\n",
    "        val_score = regr.score(X_val, y_val) # same as f1 score micro\n",
    "        acc_mat_l[i][j] = val_score\n",
    "        print(m, c, regr.score(X_tr, y_tr), val_score)"
   ]
  },
  {
   "cell_type": "code",
   "execution_count": 40,
   "metadata": {},
   "outputs": [
    {
     "name": "stdout",
     "output_type": "stream",
     "text": [
      "0.9411193788417987 0.36739974126778785 0.38986556359875907\n",
      "              precision    recall  f1-score   support\n",
      "\n",
      "      1960's       0.00      0.00      0.00       103\n",
      "      1970's       0.36      0.43      0.39       172\n",
      "      1980's       0.39      0.45      0.42       197\n",
      "      1990's       0.34      0.41      0.37       186\n",
      "      2000's       0.42      0.63      0.50       189\n",
      "      2010's       0.67      0.17      0.27       120\n",
      "\n",
      "   micro avg       0.39      0.39      0.39       967\n",
      "   macro avg       0.36      0.35      0.33       967\n",
      "weighted avg       0.37      0.39      0.36       967\n",
      "\n"
     ]
    }
   ],
   "source": [
    "final_regr = LogisticRegression(multi_class = 'multinomial', C = 1, solver = 'lbfgs', random_state=1)\n",
    "final_regr.fit(X_tr, y_tr)\n",
    "\n",
    "tr_score = final_regr.score(X_tr, y_tr)\n",
    "val_score = final_regr.score(X_val, y_val)\n",
    "test_score = final_regr.score(X_test, y_test)\n",
    "print(tr_score, val_score, test_score)\n",
    "\n",
    "y_predicted = final_regr.predict(X_test)\n",
    "print(classification_report(y_test, y_predicted))"
   ]
  }
 ],
 "metadata": {
  "kernelspec": {
   "display_name": "Python 3",
   "language": "python",
   "name": "python3"
  },
  "language_info": {
   "codemirror_mode": {
    "name": "ipython",
    "version": 3
   },
   "file_extension": ".py",
   "mimetype": "text/x-python",
   "name": "python",
   "nbconvert_exporter": "python",
   "pygments_lexer": "ipython3",
   "version": "3.6.5"
  }
 },
 "nbformat": 4,
 "nbformat_minor": 2
}
