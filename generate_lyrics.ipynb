{
 "cells": [
  {
   "cell_type": "markdown",
   "metadata": {},
   "source": [
    "# Hidden Markov Models (HMMs) for Song Lyrics"
   ]
  },
  {
   "cell_type": "markdown",
   "metadata": {
    "collapsed": true
   },
   "source": [
    "### Read in data and prepare"
   ]
  },
  {
   "cell_type": "code",
   "execution_count": 13,
   "metadata": {},
   "outputs": [
    {
     "data": {
      "text/plain": [
       "(4831, 8)"
      ]
     },
     "execution_count": 13,
     "metadata": {},
     "output_type": "execute_result"
    }
   ],
   "source": [
    "import pandas as pd\n",
    "\n",
    "songs = pd.read_csv('billboard.csv', encoding='latin1')\n",
    "songs.shape\n",
    "songs = songs[(songs['Lyrics'].notnull()) & (songs['Lyrics'] != '  ')]\n",
    "songs.shape\n",
    "songs['word_count'] = songs['Lyrics'].apply(lambda s: len(s.split()))\n",
    "songs['Decade'] = songs['Year'].apply(lambda y: str(y//10) + \"0's\")\n",
    "songs = songs[songs['word_count'] > 1]\n",
    "songs.shape"
   ]
  },
  {
   "cell_type": "markdown",
   "metadata": {},
   "source": [
    "### Create states and transitions files"
   ]
  },
  {
   "cell_type": "code",
   "execution_count": 8,
   "metadata": {},
   "outputs": [],
   "source": [
    "def create_states(year):\n",
    "    lyrics = songs[songs['Decade'] == str(year) + \"'s\"]['Lyrics']\n",
    "    words = ' '.join(lyrics)\n",
    "    lst = words.split(\" \")\n",
    "    lst = ['-' if x=='' else x for x in lst]\n",
    "    unique = sorted(set(lst))\n",
    "    newfile = open(str(year) + \"_states.txt\",\"w\")\n",
    "    for word in unique:\n",
    "        newfile.write(word + \"\\t\" + word + \"\\t\" + \"1.0\" + \"\\n\")\n",
    "    newfile.close()\n",
    "    return lst, unique"
   ]
  },
  {
   "cell_type": "code",
   "execution_count": 9,
   "metadata": {},
   "outputs": [],
   "source": [
    "import numpy as np\n",
    "\n",
    "def create_transitions(year, lst, unique):\n",
    "    string = lst\n",
    "    #matrix holding transition probabilities\n",
    "    matrix = np.zeros((len(unique),len(unique)))\n",
    "    finalMatrix = np.zeros((len(unique),len(unique)))\n",
    "    #dictionary of words to index\n",
    "    alphabet = unique\n",
    "    #loop through string\n",
    "    for i in range(len(string)-2):\n",
    "        #for each character, look at the next character and update the matrix\n",
    "        index1 = alphabet.index(string[i])\n",
    "        index2 = alphabet.index(string[i+1])\n",
    "        matrix[index1][index2] += 1\n",
    "    #divide each cell by the row total\n",
    "    i = 0\n",
    "    for row in matrix:\n",
    "        rowsum = np.sum(row)\n",
    "        j = 0\n",
    "        for col in row:\n",
    "            if rowsum != 0:\n",
    "                finalMatrix[i][j] = col/rowsum\n",
    "            else:\n",
    "                finalMatrix[i][j] = 0.0\n",
    "            j += 1\n",
    "        i += 1\n",
    "\n",
    "    newfile = open(str(year) + \"_transitions.txt\",\"w\")\n",
    "    newfile.write(\"\\t\")\n",
    "    for char in alphabet:\n",
    "        newfile.write(char + \"\\t\")\n",
    "    newfile.write(\"\\n\")\n",
    "\n",
    "    i=0\n",
    "    for row in finalMatrix:\n",
    "        newfile.write(alphabet[i] + \"\\t\")\n",
    "        for col in row:\n",
    "            newfile.write(str(col))\n",
    "            newfile.write(\"\\t\")\n",
    "        newfile.write(\"\\n\")\n",
    "        i += 1\n",
    "    newfile.close()\n",
    "    \n",
    "    return finalMatrix, alphabet\n"
   ]
  },
  {
   "cell_type": "markdown",
   "metadata": {},
   "source": [
    "### Attempt to use HMM to predict decade of song\n",
    "This was unsuccessful due to the time complexity of HMM."
   ]
  },
  {
   "cell_type": "code",
   "execution_count": 1,
   "metadata": {},
   "outputs": [],
   "source": [
    "#from HMM import HMM\n",
    "# h = HMM()\n",
    "# h.fit('1960_states.txt', '1960_transitions.txt')"
   ]
  },
  {
   "cell_type": "code",
   "execution_count": 2,
   "metadata": {},
   "outputs": [],
   "source": [
    "# h.predict('1960_observation.txt')\n",
    "# print(math.exp(h.score))"
   ]
  },
  {
   "cell_type": "markdown",
   "metadata": {},
   "source": [
    "# Generating Lyrics"
   ]
  },
  {
   "cell_type": "code",
   "execution_count": 10,
   "metadata": {},
   "outputs": [],
   "source": [
    "import random \n",
    "\n",
    "def generate_bad_lyrics(finalMatrix, alphabet):\n",
    "    currIndex = random.randint(0,len(finalMatrix)-1)\n",
    "    LENGTH_SONG = 125\n",
    "    song = \"\"\n",
    "    for i in range(LENGTH_SONG):\n",
    "        if i % 7 == 0:\n",
    "            song += \"\\n\"\n",
    "        song += alphabet[currIndex] + \" \"\n",
    "        currIndex = finalMatrix[currIndex].argmax(axis=0)\n",
    "    return song"
   ]
  },
  {
   "cell_type": "code",
   "execution_count": 11,
   "metadata": {},
   "outputs": [],
   "source": [
    "def generate_okay_lyrics(finalMatrix, alphabet):\n",
    "    currIndex = random.randint(0,len(finalMatrix)-1)\n",
    "    LENGTH_SONG = 125\n",
    "    song = \"\"\n",
    "    \n",
    "    for i in range(LENGTH_SONG):\n",
    "        if i % 7 == 0:\n",
    "            song += \"\\n\"\n",
    "        song += alphabet[currIndex] + \" \"\n",
    "        currIndex = finalMatrix[currIndex].argsort()[-3:][random.randint(0,2)]\n",
    "    return song\n"
   ]
  },
  {
   "cell_type": "markdown",
   "metadata": {},
   "source": [
    "### Generating Lyrics Per Decade"
   ]
  },
  {
   "cell_type": "code",
   "execution_count": 15,
   "metadata": {},
   "outputs": [
    {
     "name": "stdout",
     "output_type": "stream",
     "text": [
      "1960s\n"
     ]
    }
   ],
   "source": [
    "#1960s\n",
    "print(\"1960s\")\n",
    "list_1960, unique_1960 = create_states(1960)\n",
    "final_1960, alpha_1960 = create_transitions(1960, list_1960, unique_1960)"
   ]
  },
  {
   "cell_type": "code",
   "execution_count": 18,
   "metadata": {},
   "outputs": [
    {
     "name": "stdout",
     "output_type": "stream",
     "text": [
      "BAD \n",
      "turnip green grass is a little bit \n",
      "me and i love you know that \n",
      "i love you know that i love \n",
      "you know that i love you know \n",
      "that i love you know that i \n",
      "love you know that i love you \n",
      "know that i love you know that \n",
      "i love you know that i love \n",
      "you know that i love you know \n",
      "that i love you know that i \n",
      "love you know that i love you \n",
      "know that i love you know that \n",
      "i love you know that i love \n",
      "you know that i love you know \n",
      "that i love you know that i \n",
      "love you know that i love you \n",
      "know that i love you know that \n",
      "i love you know that i \n",
      "\n",
      "OKAY \n",
      "widowed forsee fortress forsake me down and \n",
      "the way down and im proud easy \n",
      "its all right yeah and the world \n",
      "is a gas but you baby you \n",
      "baby baby i got me i cant \n",
      "you and you can see you i \n",
      "dont you i dont want my baby \n",
      "im so good lovin feelin low enough \n",
      "it was to the world needs now \n",
      "you can do the world and i \n",
      "dont let your eyes are my love \n",
      "me down in my heart is in \n",
      "your mind if you know you know \n",
      "i got you baby baby baby baby \n",
      "im proud to me down and you \n",
      "and i know you and the world \n",
      "and im a place to the time \n",
      "i dont want my mind you \n"
     ]
    }
   ],
   "source": [
    "print(\"BAD\", generate_bad_lyrics(final_1960, alpha_1960))\n",
    "print()\n",
    "print(\"OKAY\", generate_okay_lyrics(final_1960, alpha_1960))"
   ]
  },
  {
   "cell_type": "code",
   "execution_count": 19,
   "metadata": {},
   "outputs": [
    {
     "name": "stdout",
     "output_type": "stream",
     "text": [
      "1970s\n"
     ]
    }
   ],
   "source": [
    "#1970s\n",
    "print(\"1970s\")\n",
    "list_1970, unique_1970 = create_states(1970)\n",
    "final_1970, alpha_1970 = create_transitions(1970, list_1970, unique_1970)"
   ]
  },
  {
   "cell_type": "code",
   "execution_count": 20,
   "metadata": {},
   "outputs": [
    {
     "name": "stdout",
     "output_type": "stream",
     "text": [
      "BAD \n",
      "blastin drinkin if you know that i \n",
      "love you know that i love you \n",
      "know that i love you know that \n",
      "i love you know that i love \n",
      "you know that i love you know \n",
      "that i love you know that i \n",
      "love you know that i love you \n",
      "know that i love you know that \n",
      "i love you know that i love \n",
      "you know that i love you know \n",
      "that i love you know that i \n",
      "love you know that i love you \n",
      "know that i love you know that \n",
      "i love you know that i love \n",
      "you know that i love you know \n",
      "that i love you know that i \n",
      "love you know that i love you \n",
      "know that i love you know \n",
      "\n",
      "OKAY \n",
      "drawn in the world to me to \n",
      "be there was made a love me \n",
      "you and the world i dont know \n",
      "i love me you i dont you \n",
      "i dont wanna be with your mind \n",
      "if you and you got a song \n",
      "sing it all i love me you \n",
      "know that youre a love to me \n",
      "and you got the way to be \n",
      "there to you i love me to \n",
      "you can make you and the world \n",
      "of you i dont know how do \n",
      "you know what a friend - you \n",
      "got no time i dont stop dont \n",
      "know what you can see me i \n",
      "love you and im a little more \n",
      "love you know you know that you \n",
      "and i love to be with \n"
     ]
    }
   ],
   "source": [
    "print(\"BAD\", generate_bad_lyrics(final_1970, alpha_1970))\n",
    "print()\n",
    "print(\"OKAY\", generate_okay_lyrics(final_1970, alpha_1970))"
   ]
  },
  {
   "cell_type": "code",
   "execution_count": 21,
   "metadata": {},
   "outputs": [
    {
     "name": "stdout",
     "output_type": "stream",
     "text": [
      "1980s\n"
     ]
    }
   ],
   "source": [
    "#1980s\n",
    "print(\"1980s\")\n",
    "list_1980, unique_1980 = create_states(1980)\n",
    "final_1980, alpha_1980 = create_transitions(1980, list_1980, unique_1980)"
   ]
  },
  {
   "cell_type": "code",
   "execution_count": 22,
   "metadata": {},
   "outputs": [
    {
     "name": "stdout",
     "output_type": "stream",
     "text": [
      "BAD \n",
      "charade lets do it all the night \n",
      "and i know i know i know \n",
      "i know i know i know i \n",
      "know i know i know i know \n",
      "i know i know i know i \n",
      "know i know i know i know \n",
      "i know i know i know i \n",
      "know i know i know i know \n",
      "i know i know i know i \n",
      "know i know i know i know \n",
      "i know i know i know i \n",
      "know i know i know i know \n",
      "i know i know i know i \n",
      "know i know i know i know \n",
      "i know i know i know i \n",
      "know i know i know i know \n",
      "i know i know i know i \n",
      "know i know i know i \n",
      "\n",
      "OKAY \n",
      "fevers ghostbusterswho ghostif Ì¢cause gibts gibraltar giddy \n",
      "gift i want you can i cant \n",
      "you i cant get you know what \n",
      "im not so much too much time \n",
      "to you and you can be my \n",
      "mind in love is what you and \n",
      "i dont you i can be there \n",
      "aint got me to the way i \n",
      "can i can feel you can do \n",
      "the time to you want it was \n",
      "the time is all the way you \n",
      "i know what im in the one \n",
      "who whos to do you and i \n",
      "know what to do do you i \n",
      "dont need a little thing to do \n",
      "the night long to the time and \n",
      "if you want to be your love \n",
      "is the night all the night \n"
     ]
    }
   ],
   "source": [
    "print(\"BAD\", generate_bad_lyrics(final_1980, alpha_1980))\n",
    "print()\n",
    "print(\"OKAY\", generate_okay_lyrics(final_1980, alpha_1980))"
   ]
  },
  {
   "cell_type": "code",
   "execution_count": 23,
   "metadata": {},
   "outputs": [
    {
     "name": "stdout",
     "output_type": "stream",
     "text": [
      "1980s\n"
     ]
    }
   ],
   "source": [
    "#1990s\n",
    "print(\"1980s\")\n",
    "list_1990, unique_1990 = create_states(1990)\n",
    "final_1990, alpha_1990 = create_transitions(1990, list_1990, unique_1990)"
   ]
  },
  {
   "cell_type": "code",
   "execution_count": 24,
   "metadata": {},
   "outputs": [
    {
     "name": "stdout",
     "output_type": "stream",
     "text": [
      "BAD \n",
      "average ordinary world i dont know i \n",
      "dont know i dont know i dont \n",
      "know i dont know i dont know \n",
      "i dont know i dont know i \n",
      "dont know i dont know i dont \n",
      "know i dont know i dont know \n",
      "i dont know i dont know i \n",
      "dont know i dont know i dont \n",
      "know i dont know i dont know \n",
      "i dont know i dont know i \n",
      "dont know i dont know i dont \n",
      "know i dont know i dont know \n",
      "i dont know i dont know i \n",
      "dont know i dont know i dont \n",
      "know i dont know i dont know \n",
      "i dont know i dont know i \n",
      "dont know i dont know i dont \n",
      "know i dont know i dont \n",
      "\n",
      "OKAY \n",
      "upon the one to be your body \n",
      "baby im a little bit taller fritos \n",
      "front huh uh yeah baby baby i \n",
      "dont you know i cant you want \n",
      "it to be the world seems to \n",
      "you and you can you can be \n",
      "my mind and im not a good \n",
      "enough baby i want no one more \n",
      "time i can you know i can \n",
      "i want no i can do you \n",
      "and you want it to be with \n",
      "me you i cant you can do \n",
      "it all the night long to be \n",
      "there is it was the one of \n",
      "my eyes of love is what you \n",
      "and i can you know you can \n",
      "i can i can i dont think \n",
      "that we can you and i \n"
     ]
    }
   ],
   "source": [
    "print(\"BAD\", generate_bad_lyrics(final_1990, alpha_1990))\n",
    "print()\n",
    "print(\"OKAY\", generate_okay_lyrics(final_1990, alpha_1990))"
   ]
  },
  {
   "cell_type": "code",
   "execution_count": 25,
   "metadata": {},
   "outputs": [
    {
     "name": "stdout",
     "output_type": "stream",
     "text": [
      "2000s\n"
     ]
    }
   ],
   "source": [
    "#2000s\n",
    "print(\"2000s\")\n",
    "list_2000, unique_2000 = create_states(2000)\n",
    "final_2000, alpha_2000 = create_transitions(2000, list_2000, unique_2000)"
   ]
  },
  {
   "cell_type": "code",
   "execution_count": 26,
   "metadata": {},
   "outputs": [
    {
     "name": "stdout",
     "output_type": "stream",
     "text": [
      "BAD \n",
      "backlift me and i know you know \n",
      "you know you know you know you \n",
      "know you know you know you know \n",
      "you know you know you know you \n",
      "know you know you know you know \n",
      "you know you know you know you \n",
      "know you know you know you know \n",
      "you know you know you know you \n",
      "know you know you know you know \n",
      "you know you know you know you \n",
      "know you know you know you know \n",
      "you know you know you know you \n",
      "know you know you know you know \n",
      "you know you know you know you \n",
      "know you know you know you know \n",
      "you know you know you know you \n",
      "know you know you know you know \n",
      "you know you know you know \n",
      "\n",
      "OKAY \n",
      "painting friends when youre not the world \n",
      "to do you know that i got \n",
      "me to do it all the same \n",
      "and the one more pain and all \n",
      "of the club yea yea in a \n",
      "nigga nothin else you can see that \n",
      "we were my heart to me i \n",
      "cant be my heart to do it \n",
      "like the world and im not to \n",
      "be the way to be your mind \n",
      "she got a a man and im \n",
      "just to me in a nigga like \n",
      "you can you and the one wish \n",
      "one thing like it like a nigga \n",
      "get down down i know that i \n",
      "dont wanna see the one wish one \n",
      "thing i know i can i dont \n",
      "give it all my head to \n"
     ]
    }
   ],
   "source": [
    "print(\"BAD\", generate_bad_lyrics(final_2000, alpha_2000))\n",
    "print()\n",
    "print(\"OKAY\", generate_okay_lyrics(final_2000, alpha_2000))"
   ]
  },
  {
   "cell_type": "code",
   "execution_count": 27,
   "metadata": {},
   "outputs": [
    {
     "name": "stdout",
     "output_type": "stream",
     "text": [
      "2010s\n"
     ]
    }
   ],
   "source": [
    "#2010s\n",
    "print(\"2010s\")\n",
    "list_2010, unique_2010 = create_states(2010)\n",
    "final_2010, alpha_2010 = create_transitions(2010, list_2010, unique_2010)"
   ]
  },
  {
   "cell_type": "code",
   "execution_count": 28,
   "metadata": {},
   "outputs": [
    {
     "name": "stdout",
     "output_type": "stream",
     "text": [
      "BAD \n",
      "beimma be the way you know you \n",
      "know you know you know you know \n",
      "you know you know you know you \n",
      "know you know you know you know \n",
      "you know you know you know you \n",
      "know you know you know you know \n",
      "you know you know you know you \n",
      "know you know you know you know \n",
      "you know you know you know you \n",
      "know you know you know you know \n",
      "you know you know you know you \n",
      "know you know you know you know \n",
      "you know you know you know you \n",
      "know you know you know you know \n",
      "you know you know you know you \n",
      "know you know you know you know \n",
      "you know you know you know you \n",
      "know you know you know you \n",
      "\n",
      "OKAY \n",
      "we dont know that i got a \n",
      "little closer winner and we dont want \n",
      "to me and the world dont care \n",
      "what i got that im a little \n",
      "love is my life oh baby dont \n",
      "know that you know that i got \n",
      "me love is your love is a \n",
      "good time that you can you want \n",
      "your eyes yeah i know how we \n",
      "dont want you know how i wanna \n",
      "know i cant see it all night \n",
      "yeah you can i got my heart \n",
      "and you can you know what do \n",
      "the only thing we are moving tell \n",
      "the world and im the world dont \n",
      "want to me i cant even if \n",
      "you can make me down the way \n",
      "i dont wanna rock me love \n"
     ]
    }
   ],
   "source": [
    "print(\"BAD\", generate_bad_lyrics(final_2010, alpha_2010))\n",
    "print()\n",
    "print(\"OKAY\", generate_okay_lyrics(final_2010, alpha_2010))"
   ]
  },
  {
   "cell_type": "code",
   "execution_count": null,
   "metadata": {},
   "outputs": [],
   "source": []
  }
 ],
 "metadata": {
  "kernelspec": {
   "display_name": "Python 3",
   "language": "python",
   "name": "python3"
  },
  "language_info": {
   "codemirror_mode": {
    "name": "ipython",
    "version": 3
   },
   "file_extension": ".py",
   "mimetype": "text/x-python",
   "name": "python",
   "nbconvert_exporter": "python",
   "pygments_lexer": "ipython3",
   "version": "3.6.5"
  }
 },
 "nbformat": 4,
 "nbformat_minor": 2
}
